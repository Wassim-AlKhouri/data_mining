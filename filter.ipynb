{
 "cells": [
  {
   "cell_type": "code",
   "execution_count": 37,
   "metadata": {},
   "outputs": [],
   "source": [
    "import numpy as np\n",
    "import pandas as pd"
   ]
  },
  {
   "cell_type": "code",
   "execution_count": 38,
   "metadata": {},
   "outputs": [
    {
     "name": "stdout",
     "output_type": "stream",
     "text": [
      "   Unnamed: 0  incident_id                                  vehicles_sequence  \\\n",
      "0           0      4432881  [609, 609, 609, 609, 609, 609, 609, 609, 609, ...   \n",
      "1           1      4432943  [526, 526, 526, 526, 526, 526, 526, 526, 526, ...   \n",
      "2           2      4432955  [592, 592, 592, 592, 592, 592, 592, 592, 592, ...   \n",
      "3           3      4433021  [576, 576, 576, 576, 576, 576, 576, 576, 576, ...   \n",
      "4           4      4433129  [634, 634, 634, 634, 634, 634, 634, 634, 634, ...   \n",
      "\n",
      "                                     events_sequence  \\\n",
      "0  [2744, 4004, 2852, 4110, 2854, 4396, 1132, 414...   \n",
      "1  [2744, 4148, 4394, 1566, 1570, 4396, 3634, 412...   \n",
      "2  [4394, 1566, 1570, 4114, 4168, 4168, 4156, 406...   \n",
      "3  [4066, 4066, 4066, 4066, 4068, 2742, 4026, 270...   \n",
      "4  [4002, 4032, 4028, 2852, 4026, 4110, 2742, 285...   \n",
      "\n",
      "                        seconds_to_incident_sequence  approx_lat  approx_lon  \\\n",
      "0  [-5510, -5510, -5507, -5507, -5506, -5506, -55...   50.876601    4.718143   \n",
      "1  [-8573, -8573, -8032, -8032, -8032, -7859, -61...   51.037435    4.431218   \n",
      "2  [-12291, -12291, -12291, -10932, -10932, -1091...   50.864083    4.162115   \n",
      "3  [-14351, -14204, -13890, -13383, -12739, -1243...   51.183220    4.276025   \n",
      "4  [-224, -224, -223, -222, -222, -222, -220, -22...   50.818727    3.253601   \n",
      "\n",
      "                                  train_kph_sequence  \\\n",
      "0  [0.0, 0.0, 0.0, 0.0, 0.0, 0.0, 0.0, 0.0, 0.0, ...   \n",
      "1  [0.0, 0.0, 0.0, 0.0, 0.0, 0.0, 0.0, 0.0, 29.1,...   \n",
      "2  [0.0, 0.0, 0.0, 0.0, 0.0, 0.0, 0.0, 0.0, 0.0, ...   \n",
      "3  [0.0, 0.0, 0.0, 0.015625, 0.0, 0.0, 0.0, 0.0, ...   \n",
      "4  [0.0, 0.0, 0.0, 0.0, 0.0, 0.0, 0.0, 0.0, 0.0, ...   \n",
      "\n",
      "                                dj_ac_state_sequence  \\\n",
      "0  [False, False, False, False, False, False, Fal...   \n",
      "1  [False, False, False, False, False, False, Fal...   \n",
      "2  [False, False, False, False, False, False, Fal...   \n",
      "3  [False, False, False, False, False, False, Fal...   \n",
      "4  [False, False, False, False, False, False, Fal...   \n",
      "\n",
      "                                dj_dc_state_sequence  incident_type  \n",
      "0  [False, False, False, False, False, False, Fal...              4  \n",
      "1  [True, True, True, True, True, True, True, Tru...             13  \n",
      "2  [True, True, True, True, True, False, True, Tr...             14  \n",
      "3  [True, True, True, True, True, True, True, Tru...              2  \n",
      "4  [False, False, False, False, False, False, Fal...             14  \n",
      "Unnamed: 0\n",
      "incident_id\n",
      "vehicles_sequence\n",
      "events_sequence\n",
      "seconds_to_incident_sequence\n",
      "approx_lat\n",
      "approx_lon\n",
      "train_kph_sequence\n",
      "dj_ac_state_sequence\n",
      "dj_dc_state_sequence\n",
      "incident_type\n"
     ]
    }
   ],
   "source": [
    "df = pd.read_csv('sncb_data_challenge.csv', sep=';')\n",
    "df['events_sequence'] = df['events_sequence'].apply(lambda x: list(map(int, x.strip('[]').split(','))))\n",
    "print(df.head())\n",
    "for col in df.columns:\n",
    "    print(col)\n"
   ]
  },
  {
   "cell_type": "code",
   "execution_count": 39,
   "metadata": {},
   "outputs": [
    {
     "name": "stdout",
     "output_type": "stream",
     "text": [
      "917\n",
      "[ 4 13 14  2 11 99  9 17  3 16  6  7]\n"
     ]
    }
   ],
   "source": [
    "#create list of all events\n",
    "events = []\n",
    "for row in df['events_sequence']:\n",
    "\n",
    "    for event in row:\n",
    "        if event not in events:\n",
    "            events.append(event)\n",
    "print(len(events))\n",
    "    \n",
    "#create list of all incidents\n",
    "incidents = df['incident_type'].unique()\n",
    "print(incidents)"
   ]
  },
  {
   "cell_type": "code",
   "execution_count": null,
   "metadata": {},
   "outputs": [],
   "source": [
    "#Compute relevance of each event\n",
    "h_all_class = np.zeros(len(events))\n",
    "for i, event in enumerate(events):\n",
    "    for row in df['events_sequence']:\n",
    "        if event in row:\n",
    "            h_all_class[i] += 1\n",
    "h_all_class = h_all_class/len(df)\n",
    "\n",
    "relevance = {}\n",
    "for incident in incidents:\n",
    "    df_i = df[df['incident_type'] == incident]\n",
    "    h_in = np.zeros(len(events))\n",
    "    for i, event in enumerate(events):\n",
    "        for row in df_i['events_sequence']:\n",
    "            if event in row:\n",
    "                h_in[i] += 1\n",
    "    h_in = h_in/len(df_i)\n",
    "    relevance[incident] = h_in/h_all_class\n",
    "\n",
    "relevance_max = []\n",
    "for i, event in enumerate(events):\n",
    "    max = 1\n",
    "    for incident in incidents:\n",
    "        if relevance[incident][i] > max:\n",
    "            max = relevance[incident][i]\n",
    "    relevance_max.append(max)"
   ]
  },
  {
   "cell_type": "code",
   "execution_count": null,
   "metadata": {},
   "outputs": [
    {
     "ename": "SyntaxError",
     "evalue": "invalid syntax. Perhaps you forgot a comma? (3774481462.py, line 4)",
     "output_type": "error",
     "traceback": [
      "\u001b[1;36m  Cell \u001b[1;32mIn[46], line 4\u001b[1;36m\u001b[0m\n\u001b[1;33m    print(np.min(relevance_max)s)\u001b[0m\n\u001b[1;37m          ^\u001b[0m\n\u001b[1;31mSyntaxError\u001b[0m\u001b[1;31m:\u001b[0m invalid syntax. Perhaps you forgot a comma?\n"
     ]
    }
   ],
   "source": [
    "mean_value = np.mean(relevance_max)\n",
    "print(mean_value)\n",
    "print(np.max(relevance_max))\n",
    "print(np.min(relevance_max))"
   ]
  },
  {
   "cell_type": "code",
   "execution_count": null,
   "metadata": {},
   "outputs": [],
   "source": []
  }
 ],
 "metadata": {
  "kernelspec": {
   "display_name": "Python 3",
   "language": "python",
   "name": "python3"
  },
  "language_info": {
   "codemirror_mode": {
    "name": "ipython",
    "version": 3
   },
   "file_extension": ".py",
   "mimetype": "text/x-python",
   "name": "python",
   "nbconvert_exporter": "python",
   "pygments_lexer": "ipython3",
   "version": "3.12.3"
  }
 },
 "nbformat": 4,
 "nbformat_minor": 2
}
