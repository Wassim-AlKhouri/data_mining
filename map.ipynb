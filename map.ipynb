{
 "cells": [
  {
   "cell_type": "code",
   "execution_count": 6,
   "metadata": {},
   "outputs": [
    {
     "name": "stdout",
     "output_type": "stream",
     "text": [
      "Collecting folium\n",
      "  Obtaining dependency information for folium from https://files.pythonhosted.org/packages/03/12/45a714482b9aa23cf708c5d07810d8133c4277b9d28db55e51352a0cb2da/folium-0.18.0-py2.py3-none-any.whl.metadata\n",
      "  Downloading folium-0.18.0-py2.py3-none-any.whl.metadata (3.8 kB)\n",
      "Collecting branca>=0.6.0 (from folium)\n",
      "  Obtaining dependency information for branca>=0.6.0 from https://files.pythonhosted.org/packages/fc/be/720f85abacd654ec86f1431bc7c004eae74417bd9d0e7a2bc43601062627/branca-0.8.0-py3-none-any.whl.metadata\n",
      "  Downloading branca-0.8.0-py3-none-any.whl.metadata (1.5 kB)\n",
      "Requirement already satisfied: jinja2>=2.9 in c:\\users\\bryan\\anaconda3\\lib\\site-packages (from folium) (3.1.2)\n",
      "Requirement already satisfied: numpy in c:\\users\\bryan\\anaconda3\\lib\\site-packages (from folium) (1.24.3)\n",
      "Requirement already satisfied: requests in c:\\users\\bryan\\anaconda3\\lib\\site-packages (from folium) (2.31.0)\n",
      "Requirement already satisfied: xyzservices in c:\\users\\bryan\\anaconda3\\lib\\site-packages (from folium) (2022.9.0)\n",
      "Requirement already satisfied: MarkupSafe>=2.0 in c:\\users\\bryan\\anaconda3\\lib\\site-packages (from jinja2>=2.9->folium) (2.1.1)\n",
      "Requirement already satisfied: charset-normalizer<4,>=2 in c:\\users\\bryan\\anaconda3\\lib\\site-packages (from requests->folium) (2.0.4)\n",
      "Requirement already satisfied: idna<4,>=2.5 in c:\\users\\bryan\\anaconda3\\lib\\site-packages (from requests->folium) (3.4)\n",
      "Requirement already satisfied: urllib3<3,>=1.21.1 in c:\\users\\bryan\\anaconda3\\lib\\site-packages (from requests->folium) (1.26.16)\n",
      "Requirement already satisfied: certifi>=2017.4.17 in c:\\users\\bryan\\anaconda3\\lib\\site-packages (from requests->folium) (2023.7.22)\n",
      "Downloading folium-0.18.0-py2.py3-none-any.whl (108 kB)\n",
      "   ---------------------------------------- 0.0/108.9 kB ? eta -:--:--\n",
      "   ---------------------------------------- 0.0/108.9 kB ? eta -:--:--\n",
      "   ------------------------------------- -- 102.4/108.9 kB 3.0 MB/s eta 0:00:01\n",
      "   ---------------------------------------- 108.9/108.9 kB 2.1 MB/s eta 0:00:00\n",
      "Downloading branca-0.8.0-py3-none-any.whl (25 kB)\n",
      "Installing collected packages: branca, folium\n",
      "Successfully installed branca-0.8.0 folium-0.18.0\n",
      "Note: you may need to restart the kernel to use updated packages.\n"
     ]
    }
   ],
   "source": [
    "pip install folium"
   ]
  },
  {
   "cell_type": "code",
   "execution_count": 7,
   "metadata": {},
   "outputs": [
    {
     "name": "stdout",
     "output_type": "stream",
     "text": [
      "Carte enregistrée : ouvrez 'carte_incidents.html' dans votre navigateur.\n"
     ]
    }
   ],
   "source": [
    "import folium\n",
    "import pandas as pd\n",
    "\n",
    "# Charger les données\n",
    "data = pd.read_csv('sncb_prepared.csv', sep=';')\n",
    "\n",
    "# Créer une carte centrée sur la Belgique\n",
    "belgium_map = folium.Map(location=[50.8503, 4.3517], zoom_start=8)\n",
    "\n",
    "# Palette de couleurs pour différencier les types d'incidents\n",
    "colors = ['red', 'blue', 'green', 'purple', 'orange', 'pink', 'darkred', 'darkblue', 'darkgreen']\n",
    "\n",
    "# Groupes de points par type d'incident\n",
    "incident_groups = data.groupby('incident_type')\n",
    "\n",
    "# Ajouter des lignes pour chaque type d'incident\n",
    "for i, (incident_type, group) in enumerate(incident_groups):\n",
    "    # Obtenir les coordonnées des incidents\n",
    "    points = list(zip(group['approx_lat'], group['approx_lon']))\n",
    "    \n",
    "    # Ajouter une polyligne reliant les points\n",
    "    folium.PolyLine(\n",
    "        locations=points,\n",
    "        color=colors[i % len(colors)],\n",
    "        weight=2.5,\n",
    "        popup=f\"Type d'incident : {incident_type}\"\n",
    "    ).add_to(belgium_map)\n",
    "\n",
    "    # Ajouter des marqueurs pour les points\n",
    "    for lat, lon in points:\n",
    "        folium.CircleMarker(\n",
    "            location=[lat, lon],\n",
    "            radius=5,\n",
    "            color=colors[i % len(colors)],\n",
    "            fill=True,\n",
    "            fill_opacity=0.6\n",
    "        ).add_to(belgium_map)\n",
    "\n",
    "# Enregistrer la carte dans un fichier HTML\n",
    "belgium_map.save('carte_incidents.html')\n",
    "print(\"Carte enregistrée : ouvrez 'carte_incidents.html' dans votre navigateur.\")\n"
   ]
  },
  {
   "cell_type": "code",
   "execution_count": 9,
   "metadata": {},
   "outputs": [
    {
     "name": "stdout",
     "output_type": "stream",
     "text": [
      "Carte enregistrée : carte_incidents_type_2.html\n",
      "Carte enregistrée : carte_incidents_type_3.html\n",
      "Carte enregistrée : carte_incidents_type_4.html\n",
      "Carte enregistrée : carte_incidents_type_6.html\n",
      "Carte enregistrée : carte_incidents_type_7.html\n",
      "Carte enregistrée : carte_incidents_type_9.html\n",
      "Carte enregistrée : carte_incidents_type_11.html\n",
      "Carte enregistrée : carte_incidents_type_13.html\n",
      "Carte enregistrée : carte_incidents_type_14.html\n",
      "Carte enregistrée : carte_incidents_type_16.html\n",
      "Carte enregistrée : carte_incidents_type_17.html\n",
      "Carte enregistrée : carte_incidents_type_99.html\n"
     ]
    }
   ],
   "source": [
    "import folium\n",
    "import pandas as pd\n",
    "\n",
    "# Charger les données\n",
    "data = pd.read_csv('sncb_prepared.csv', sep=';')\n",
    "\n",
    "# Palette de couleurs pour différencier les incidents\n",
    "colors = ['red', 'blue', 'green', 'purple', 'orange', 'pink', 'darkred', 'darkblue', 'darkgreen']\n",
    "\n",
    "# Grouper les données par type d'incident\n",
    "incident_groups = data.groupby('incident_type')\n",
    "\n",
    "# Créer une carte par type d'incident\n",
    "for i, (incident_type, group) in enumerate(incident_groups):\n",
    "    # Créer une carte centrée sur la Belgique\n",
    "    belgium_map = folium.Map(location=[50.8503, 4.3517], zoom_start=8)\n",
    "    \n",
    "    # Ajouter des points pour chaque incident\n",
    "    for _, row in group.iterrows():\n",
    "        latitude = row['approx_lat']\n",
    "        longitude = row['approx_lon']\n",
    "        \n",
    "        # Ajouter un marqueur interactif pour chaque point\n",
    "        folium.CircleMarker(\n",
    "            location=[latitude, longitude],\n",
    "            radius=5,\n",
    "            color=colors[i % len(colors)],\n",
    "            fill=True,\n",
    "            fill_opacity=0.6,\n",
    "            popup=f\"Type d'incident : {incident_type}\"\n",
    "        ).add_to(belgium_map)\n",
    "    \n",
    "    # Enregistrer la carte dans un fichier HTML\n",
    "    file_name = f\"carte_incidents_type_{incident_type}.html\"\n",
    "    belgium_map.save(file_name)\n",
    "    print(f\"Carte enregistrée : {file_name}\")\n"
   ]
  }
 ],
 "metadata": {
  "kernelspec": {
   "display_name": "base",
   "language": "python",
   "name": "python3"
  },
  "language_info": {
   "codemirror_mode": {
    "name": "ipython",
    "version": 3
   },
   "file_extension": ".py",
   "mimetype": "text/x-python",
   "name": "python",
   "nbconvert_exporter": "python",
   "pygments_lexer": "ipython3",
   "version": "3.11.5"
  }
 },
 "nbformat": 4,
 "nbformat_minor": 2
}
