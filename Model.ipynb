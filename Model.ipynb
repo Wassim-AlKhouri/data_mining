{
 "cells": [
  {
   "cell_type": "code",
   "execution_count": 54,
   "metadata": {},
   "outputs": [],
   "source": [
    "from sklearn.ensemble import RandomForestClassifier\n",
    "from sklearn.model_selection import train_test_split\n",
    "from sklearn.metrics import accuracy_score\n",
    "import pandas as pd\n",
    "import joblib\n",
    "import matplotlib.pyplot as plt\n",
    "import seaborn as sns\n",
    "from sklearn.metrics import confusion_matrix\n",
    "import numpy as np\n",
    "\n",
    "CV = 5\n",
    "LABELS = []\n",
    "\n",
    "data = pd.read_csv('sncb_final.csv', sep=';')\n",
    "target = data['target']\n",
    "LABELS = target.unique().tolist()\n",
    "LABELS.sort()\n",
    "\n",
    "def plot_confusion_matrix(cm, model_name, labels):\n",
    "    cm = cm.astype('int') \n",
    "    sns.heatmap(cm, annot=True, fmt=\"d\", xticklabels=labels, yticklabels=labels)\n",
    "    plt.savefig(f'models\\\\figures\\\\confusion_matrix_{model_name}.png')\n",
    "    plt.close()"
   ]
  },
  {
   "cell_type": "markdown",
   "metadata": {},
   "source": [
    "### Creating and storing the models"
   ]
  },
  {
   "cell_type": "code",
   "execution_count": 21,
   "metadata": {},
   "outputs": [],
   "source": [
    "# Load the data\n",
    "data = pd.read_csv('sncb_final.csv', sep=';')\n",
    "\n",
    "# Split the data into features and target\n",
    "X = data.drop(columns=['target'])\n",
    "y = data['target']\n",
    "\n",
    "for cv in range(CV):\n",
    "\n",
    "    # Split the data into training and testing sets\n",
    "    X_train, X_test, y_train, y_test = train_test_split(X, y, test_size=0.3)\n",
    "\n",
    "    # Create a random forest classifier\n",
    "    clf = RandomForestClassifier()\n",
    "\n",
    "    # Train the classifier\n",
    "    clf.fit(X_train, y_train)\n",
    "\n",
    "    # Save the model\n",
    "    joblib.dump(clf, f'models\\\\models\\\\RFC_{cv}.pkl')\n",
    "\n",
    "    # Save the test data\n",
    "    X_test.to_csv(f'models\\\\test_data\\\\RFC_test_data_{cv}.csv', index=False)\n",
    "    y_test.to_csv(f'models\\\\test_data\\\\RFC_test_target_{cv}.csv', index=False)"
   ]
  },
  {
   "cell_type": "markdown",
   "metadata": {},
   "source": [
    "### Testing"
   ]
  },
  {
   "cell_type": "code",
   "execution_count": 55,
   "metadata": {},
   "outputs": [
    {
     "name": "stdout",
     "output_type": "stream",
     "text": [
      "accuracy: 0.2418300653594771\n"
     ]
    }
   ],
   "source": [
    "models_names = ['RFC']\n",
    "\n",
    "for model_name in models_names:\n",
    "    accuracy = 0\n",
    "    for cv in range(CV):\n",
    "        clf = joblib.load(f'models\\\\models\\\\{model_name}_{cv}.pkl')\n",
    "        X_test = pd.read_csv(f'models\\\\test_data\\\\{model_name}_test_data_{cv}.csv')\n",
    "        y_test = pd.read_csv(f'models\\\\test_data\\\\{model_name}_test_target_{cv}.csv')\n",
    "\n",
    "        y_pred = clf.predict(X_test)\n",
    "        accuracy_cv = accuracy_score(y_test, y_pred)\n",
    "        cm_cv = confusion_matrix(y_test, y_pred, labels=LABELS)\n",
    "        cm = cm_cv if cv == 0 else cm + cm_cv\n",
    "        accuracy += accuracy_cv\n",
    "\n",
    "    plot_confusion_matrix(cm, model_name, LABELS)\n",
    "    print(f'accuracy: {accuracy/CV}')"
   ]
  }
 ],
 "metadata": {
  "kernelspec": {
   "display_name": "Python 3",
   "language": "python",
   "name": "python3"
  },
  "language_info": {
   "codemirror_mode": {
    "name": "ipython",
    "version": 3
   },
   "file_extension": ".py",
   "mimetype": "text/x-python",
   "name": "python",
   "nbconvert_exporter": "python",
   "pygments_lexer": "ipython3",
   "version": "3.11.9"
  }
 },
 "nbformat": 4,
 "nbformat_minor": 2
}
